{
 "cells": [
  {
   "cell_type": "markdown",
   "metadata": {},
   "source": [
    "# Requirements"
   ]
  },
  {
   "cell_type": "code",
   "execution_count": 1,
   "metadata": {},
   "outputs": [
    {
     "name": "stdout",
     "output_type": "stream",
     "text": [
      "Requirement already satisfied: gdelt in c:\\users\\jts\\appdata\\roaming\\python\\python37\\site-packages (0.1.10.6)\n",
      "Requirement already satisfied: python-dateutil in c:\\users\\jts\\appdata\\local\\continuum\\anaconda3\\envs\\insights\\lib\\site-packages (from gdelt) (2.8.0)\n",
      "Requirement already satisfied: numpy in c:\\users\\jts\\appdata\\local\\continuum\\anaconda3\\envs\\insights\\lib\\site-packages (from gdelt) (1.18.1)\n",
      "Requirement already satisfied: pandas>=0.20.3 in c:\\users\\jts\\appdata\\local\\continuum\\anaconda3\\envs\\insights\\lib\\site-packages (from gdelt) (0.24.2)\n",
      "Requirement already satisfied: requests in c:\\users\\jts\\appdata\\local\\continuum\\anaconda3\\envs\\insights\\lib\\site-packages (from gdelt) (2.22.0)\n",
      "Requirement already satisfied: six>=1.5 in c:\\users\\jts\\appdata\\roaming\\python\\python37\\site-packages (from python-dateutil->gdelt) (1.12.0)\n",
      "Requirement already satisfied: pytz>=2011k in c:\\users\\jts\\appdata\\local\\continuum\\anaconda3\\envs\\insights\\lib\\site-packages (from pandas>=0.20.3->gdelt) (2019.1)\n",
      "Requirement already satisfied: chardet<3.1.0,>=3.0.2 in c:\\users\\jts\\appdata\\local\\continuum\\anaconda3\\envs\\insights\\lib\\site-packages (from requests->gdelt) (3.0.4)\n",
      "Requirement already satisfied: idna<2.9,>=2.5 in c:\\users\\jts\\appdata\\local\\continuum\\anaconda3\\envs\\insights\\lib\\site-packages (from requests->gdelt) (2.8)\n",
      "Requirement already satisfied: certifi>=2017.4.17 in c:\\users\\jts\\appdata\\local\\continuum\\anaconda3\\envs\\insights\\lib\\site-packages (from requests->gdelt) (2019.11.28)\n",
      "Requirement already satisfied: urllib3!=1.25.0,!=1.25.1,<1.26,>=1.21.1 in c:\\users\\jts\\appdata\\local\\continuum\\anaconda3\\envs\\insights\\lib\\site-packages (from requests->gdelt) (1.24.2)\n"
     ]
    }
   ],
   "source": [
    "!pip install --user gdelt"
   ]
  },
  {
   "cell_type": "markdown",
   "metadata": {},
   "source": [
    "# Import modules"
   ]
  },
  {
   "cell_type": "code",
   "execution_count": 12,
   "metadata": {},
   "outputs": [],
   "source": [
    "from datetime import date, timedelta\n",
    "from gdelt import gdelt as gdelt_client\n",
    "import matplotlib.pyplot as plot\n",
    "import pandas\n",
    "import tempfile"
   ]
  },
  {
   "cell_type": "markdown",
   "metadata": {},
   "source": [
    "# Query the knowledge graph\n",
    "Use coverage option for querying all daily records. Otherwise records collected from the last 15 minutes are returned.\n",
    "Use the date option to filter by date."
   ]
  },
  {
   "cell_type": "code",
   "execution_count": 27,
   "metadata": {},
   "outputs": [],
   "source": [
    "def get_graph(date, coverage=False):\n",
    "    client = gdelt_client(version=2)\n",
    "    graph = client.Search(date.strftime(\"%Y %m %d\"), table=\"gkg\", coverage=coverage)\n",
    "    graph = graph.astype({\"DATE\": str})\n",
    "    graph[\"DATE\"] = graph[\"DATE\"].apply(lambda dateStr: dateStr[:14])\n",
    "    del client\n",
    "    return graph\n",
    "\n",
    "def get_graph_range(from_date, to_date, coverage=False):\n",
    "    date_range = to_date-from_date\n",
    "    if date_range.days < 1:\n",
    "        return\n",
    "    \n",
    "    client = gdelt_client(version=2)\n",
    "    graph = None\n",
    "    for day in range(0, date_range.days + 1):\n",
    "        date = from_date + timedelta(days=day)\n",
    "        graph_temp = client.Search(date.strftime(\"%Y %m %d\"), table=\"gkg\", coverage=coverage)\n",
    "        graph_temp = graph_temp.astype({\"DATE\": str})\n",
    "        graph_temp[\"DATE\"] = graph_temp[\"DATE\"].apply(lambda dateStr: dateStr[:14])\n",
    "        if graph is None:\n",
    "            graph = graph_temp\n",
    "        else:\n",
    "            graph = pandas.concat([graph, graph_temp], axis=0)\n",
    "    del client\n",
    "    return graph\n",
    "\n",
    "def get_today_graph(coverage=False):\n",
    "    return get_graph(date.today(), coverage)\n",
    "\n",
    "def get_yesterday_graph(coverage=False):\n",
    "    return get_graph(date.today()-timedelta(days=1), coverage)"
   ]
  },
  {
   "cell_type": "code",
   "execution_count": 28,
   "metadata": {},
   "outputs": [
    {
     "name": "stderr",
     "output_type": "stream",
     "text": [
      "C:\\Users\\jts\\AppData\\Roaming\\Python\\Python37\\site-packages\\gdelt\\parallel.py:103: UserWarning: GDELT did not return data for date time 20200318234500\n",
      "  warnings.warn(message)\n"
     ]
    },
    {
     "ename": "ValueError",
     "evalue": "This GDELT query returned no data. Check query parameters and retry",
     "output_type": "error",
     "traceback": [
      "\u001b[1;31m---------------------------------------------------------------------------\u001b[0m",
      "\u001b[1;31mValueError\u001b[0m                                Traceback (most recent call last)",
      "\u001b[1;32m<ipython-input-28-e0ad8f40dff1>\u001b[0m in \u001b[0;36m<module>\u001b[1;34m\u001b[0m\n\u001b[0;32m      1\u001b[0m \u001b[0mend_date\u001b[0m \u001b[1;33m=\u001b[0m \u001b[0mdate\u001b[0m\u001b[1;33m.\u001b[0m\u001b[0mtoday\u001b[0m\u001b[1;33m(\u001b[0m\u001b[1;33m)\u001b[0m\u001b[1;33m-\u001b[0m\u001b[0mtimedelta\u001b[0m\u001b[1;33m(\u001b[0m\u001b[0mdays\u001b[0m\u001b[1;33m=\u001b[0m\u001b[1;36m1\u001b[0m\u001b[1;33m)\u001b[0m\u001b[1;33m\u001b[0m\u001b[1;33m\u001b[0m\u001b[0m\n\u001b[0;32m      2\u001b[0m \u001b[0mstart_date\u001b[0m \u001b[1;33m=\u001b[0m \u001b[0mend_date\u001b[0m\u001b[1;33m-\u001b[0m\u001b[0mtimedelta\u001b[0m\u001b[1;33m(\u001b[0m\u001b[0mdays\u001b[0m\u001b[1;33m=\u001b[0m\u001b[1;36m2\u001b[0m\u001b[1;33m)\u001b[0m\u001b[1;33m\u001b[0m\u001b[1;33m\u001b[0m\u001b[0m\n\u001b[1;32m----> 3\u001b[1;33m \u001b[0mgraph\u001b[0m \u001b[1;33m=\u001b[0m \u001b[0mget_graph_range\u001b[0m\u001b[1;33m(\u001b[0m\u001b[0mstart_date\u001b[0m\u001b[1;33m,\u001b[0m \u001b[0mend_date\u001b[0m\u001b[1;33m,\u001b[0m \u001b[0mcoverage\u001b[0m\u001b[1;33m=\u001b[0m\u001b[1;32mFalse\u001b[0m\u001b[1;33m)\u001b[0m\u001b[1;33m\u001b[0m\u001b[1;33m\u001b[0m\u001b[0m\n\u001b[0m\u001b[0;32m      4\u001b[0m \u001b[0mcorona_records\u001b[0m \u001b[1;33m=\u001b[0m \u001b[0mgraph\u001b[0m\u001b[1;33m.\u001b[0m\u001b[0mloc\u001b[0m\u001b[1;33m[\u001b[0m\u001b[0mgraph\u001b[0m\u001b[1;33m[\u001b[0m\u001b[1;34m\"V2Themes\"\u001b[0m\u001b[1;33m]\u001b[0m\u001b[1;33m.\u001b[0m\u001b[0mstr\u001b[0m\u001b[1;33m.\u001b[0m\u001b[0mcontains\u001b[0m\u001b[1;33m(\u001b[0m\u001b[1;34m\"TAX_DISEASE_CORONAVIRUS\"\u001b[0m\u001b[1;33m,\u001b[0m \u001b[0mna\u001b[0m\u001b[1;33m=\u001b[0m\u001b[1;32mFalse\u001b[0m\u001b[1;33m)\u001b[0m\u001b[1;33m]\u001b[0m\u001b[1;33m\u001b[0m\u001b[1;33m\u001b[0m\u001b[0m\n\u001b[0;32m      5\u001b[0m \u001b[1;33m\u001b[0m\u001b[0m\n",
      "\u001b[1;32m<ipython-input-27-ab31afe241d6>\u001b[0m in \u001b[0;36mget_graph_range\u001b[1;34m(from_date, to_date, coverage)\u001b[0m\n\u001b[0;32m     16\u001b[0m     \u001b[1;32mfor\u001b[0m \u001b[0mday\u001b[0m \u001b[1;32min\u001b[0m \u001b[0mrange\u001b[0m\u001b[1;33m(\u001b[0m\u001b[1;36m0\u001b[0m\u001b[1;33m,\u001b[0m \u001b[0mdate_range\u001b[0m\u001b[1;33m.\u001b[0m\u001b[0mdays\u001b[0m \u001b[1;33m+\u001b[0m \u001b[1;36m1\u001b[0m\u001b[1;33m)\u001b[0m\u001b[1;33m:\u001b[0m\u001b[1;33m\u001b[0m\u001b[1;33m\u001b[0m\u001b[0m\n\u001b[0;32m     17\u001b[0m         \u001b[0mdate\u001b[0m \u001b[1;33m=\u001b[0m \u001b[0mfrom_date\u001b[0m \u001b[1;33m+\u001b[0m \u001b[0mtimedelta\u001b[0m\u001b[1;33m(\u001b[0m\u001b[0mdays\u001b[0m\u001b[1;33m=\u001b[0m\u001b[0mday\u001b[0m\u001b[1;33m)\u001b[0m\u001b[1;33m\u001b[0m\u001b[1;33m\u001b[0m\u001b[0m\n\u001b[1;32m---> 18\u001b[1;33m         \u001b[0mgraph_temp\u001b[0m \u001b[1;33m=\u001b[0m \u001b[0mclient\u001b[0m\u001b[1;33m.\u001b[0m\u001b[0mSearch\u001b[0m\u001b[1;33m(\u001b[0m\u001b[0mdate\u001b[0m\u001b[1;33m.\u001b[0m\u001b[0mstrftime\u001b[0m\u001b[1;33m(\u001b[0m\u001b[1;34m\"%Y %m %d\"\u001b[0m\u001b[1;33m)\u001b[0m\u001b[1;33m,\u001b[0m \u001b[0mtable\u001b[0m\u001b[1;33m=\u001b[0m\u001b[1;34m\"gkg\"\u001b[0m\u001b[1;33m,\u001b[0m \u001b[0mcoverage\u001b[0m\u001b[1;33m=\u001b[0m\u001b[0mcoverage\u001b[0m\u001b[1;33m)\u001b[0m\u001b[1;33m\u001b[0m\u001b[1;33m\u001b[0m\u001b[0m\n\u001b[0m\u001b[0;32m     19\u001b[0m         \u001b[0mgraph_temp\u001b[0m \u001b[1;33m=\u001b[0m \u001b[0mgraph_temp\u001b[0m\u001b[1;33m.\u001b[0m\u001b[0mastype\u001b[0m\u001b[1;33m(\u001b[0m\u001b[1;33m{\u001b[0m\u001b[1;34m\"DATE\"\u001b[0m\u001b[1;33m:\u001b[0m \u001b[0mstr\u001b[0m\u001b[1;33m}\u001b[0m\u001b[1;33m)\u001b[0m\u001b[1;33m\u001b[0m\u001b[1;33m\u001b[0m\u001b[0m\n\u001b[0;32m     20\u001b[0m         \u001b[0mgraph_temp\u001b[0m\u001b[1;33m[\u001b[0m\u001b[1;34m\"DATE\"\u001b[0m\u001b[1;33m]\u001b[0m \u001b[1;33m=\u001b[0m \u001b[0mgraph_temp\u001b[0m\u001b[1;33m[\u001b[0m\u001b[1;34m\"DATE\"\u001b[0m\u001b[1;33m]\u001b[0m\u001b[1;33m.\u001b[0m\u001b[0mapply\u001b[0m\u001b[1;33m(\u001b[0m\u001b[1;32mlambda\u001b[0m \u001b[0mdateStr\u001b[0m\u001b[1;33m:\u001b[0m \u001b[0mdateStr\u001b[0m\u001b[1;33m[\u001b[0m\u001b[1;33m:\u001b[0m\u001b[1;36m14\u001b[0m\u001b[1;33m]\u001b[0m\u001b[1;33m)\u001b[0m\u001b[1;33m\u001b[0m\u001b[1;33m\u001b[0m\u001b[0m\n",
      "\u001b[1;32m~\\AppData\\Roaming\\Python\\Python37\\site-packages\\gdelt\\base.py\u001b[0m in \u001b[0;36mSearch\u001b[1;34m(self, date, table, coverage, translation, output, queryTime, normcols)\u001b[0m\n\u001b[0;32m    660\u001b[0m         \u001b[1;31m# if dataframe is empty, raise error\u001b[0m\u001b[1;33m\u001b[0m\u001b[1;33m\u001b[0m\u001b[1;33m\u001b[0m\u001b[0m\n\u001b[0;32m    661\u001b[0m         \u001b[1;32melif\u001b[0m \u001b[0mresults\u001b[0m \u001b[1;32mis\u001b[0m \u001b[1;32mNone\u001b[0m \u001b[1;32mor\u001b[0m \u001b[0mlen\u001b[0m\u001b[1;33m(\u001b[0m\u001b[0mresults\u001b[0m\u001b[1;33m)\u001b[0m \u001b[1;33m==\u001b[0m \u001b[1;36m0\u001b[0m\u001b[1;33m:\u001b[0m  \u001b[1;31m# pragma: no cover\u001b[0m\u001b[1;33m\u001b[0m\u001b[1;33m\u001b[0m\u001b[0m\n\u001b[1;32m--> 662\u001b[1;33m             raise ValueError(\"This GDELT query returned no data. Check \"\n\u001b[0m\u001b[0;32m    663\u001b[0m                              \u001b[1;34m\"query parameters and \"\u001b[0m\u001b[1;33m\u001b[0m\u001b[1;33m\u001b[0m\u001b[0m\n\u001b[0;32m    664\u001b[0m                              \"retry\")\n",
      "\u001b[1;31mValueError\u001b[0m: This GDELT query returned no data. Check query parameters and retry"
     ]
    }
   ],
   "source": [
    "end_date = date.today()-timedelta(days=1)\n",
    "start_date = end_date-timedelta(days=2)\n",
    "graph = get_graph_range(start_date, end_date, coverage=False)\n",
    "corona_records = graph.loc[graph[\"V2Themes\"].str.contains(\"TAX_DISEASE_CORONAVIRUS\", na=False)]\n",
    "\n",
    "report_date = end_date"
   ]
  },
  {
   "cell_type": "code",
   "execution_count": null,
   "metadata": {},
   "outputs": [],
   "source": [
    "corona_records.to_csv(\"{}/corona_{}.csv\".format(tempfile.gettempdir(), report_date.strftime(\"%Y%m%d\")), index=False)"
   ]
  },
  {
   "cell_type": "markdown",
   "metadata": {},
   "source": [
    "# Location type exploding and filtering"
   ]
  },
  {
   "cell_type": "code",
   "execution_count": 59,
   "metadata": {},
   "outputs": [],
   "source": [
    "from enum import Enum\n",
    "\n",
    "class location_type(Enum):\n",
    "    \"\"\"Location type\n",
    "        Defines the different location types.\n",
    "    \"\"\"\n",
    "    UNKNOWN = 0\n",
    "    COUNTRY = 1\n",
    "    USSTATE = 2\n",
    "    USCITY = 3\n",
    "    WORLDCITY = 4\n",
    "    WORLDSTATE = 5\n",
    "\n",
    "class gdelt_location:\n",
    "    \"\"\"GDELT location\n",
    "        Defines a GDELT location.\n",
    "    \"\"\"\n",
    "    def __init__(self, location_typeid=0, name=None, country_code=None, admin1_code=None, lat=None, lon=None, feature_id=None):        \n",
    "        self.location_type = location_type(int(location_typeid))\n",
    "        self.location_name = name\n",
    "        self.country_code = country_code\n",
    "        self.admin1_code = admin1_code\n",
    "        self.location_lat = lat\n",
    "        self.location_lon = lon\n",
    "        self.feature_id = feature_id\n",
    "        \n",
    "    def has_location_type(self, location_type):\n",
    "        return location_type == self.location_type\n",
    "    \n",
    "    def location_type_matches(self, location_types):\n",
    "        return self.location_type in location_types\n",
    "    \n",
    "    def __str__(self):\n",
    "        return self.location_name\n",
    "    \n",
    "class location_filter():\n",
    "    \"\"\"Location Filter\n",
    "        Defines different filters which can be applied on the dataframes.\n",
    "    \"\"\"\n",
    "    def filter_by_type(self, gkg_dataframe, location_type):\n",
    "        return gkg_dataframe.loc[gkg_dataframe.apply(lambda record: record[\"GDELT_Locations\"].has_location_type(location_type), axis=1)]\n",
    "    \n",
    "    def filter_by_types(self, gkg_dataframe, location_types):\n",
    "        return gkg_dataframe.loc[gkg_dataframe.apply(lambda record: record[\"GDELT_Locations\"].location_type_matches(location_types), axis=1)]\n",
    "\n",
    "def split_location_entries(locations):\n",
    "    return [gdelt_location(*location) if 7 == len(location) else gdelt_location() for location in locations]\n",
    "\n",
    "def split_locations(record):\n",
    "    return split_location_entries([location.split(\"#\") for location in str(record[\"Locations\"]).split(\";\")])\n"
   ]
  },
  {
   "cell_type": "markdown",
   "metadata": {},
   "source": [
    "# Filter the locations by location type\n",
    "- We are exploding the records using the locations column\n",
    "- We are filtering by using the location type (e.g. return only cities)"
   ]
  },
  {
   "cell_type": "code",
   "execution_count": 60,
   "metadata": {},
   "outputs": [],
   "source": [
    "corona_locations = corona_records.copy(deep=True)\n",
    "if corona_locations.empty:\n",
    "    corona_locations[\"GDELT_Locations\"] = []\n",
    "    corona_filtered_locations = corona_locations\n",
    "else:\n",
    "    corona_locations[\"GDELT_Locations\"] = corona_records.apply(lambda record: split_locations(record), axis=1)\n",
    "    corona_locations_exploded = corona_locations.explode(\"GDELT_Locations\")\n",
    "\n",
    "    filter = location_filter()\n",
    "    corona_filtered_locations = filter.filter_by_types(corona_locations_exploded, [location_type.WORLDCITY, location_type.USCITY])\n",
    "\n",
    "del corona_records\n",
    "del graph"
   ]
  },
  {
   "cell_type": "markdown",
   "metadata": {},
   "source": [
    "# Extract the coordinates and the name from the GDELT location"
   ]
  },
  {
   "cell_type": "code",
   "execution_count": 61,
   "metadata": {},
   "outputs": [
    {
     "data": {
      "text/html": [
       "<div>\n",
       "<style scoped>\n",
       "    .dataframe tbody tr th:only-of-type {\n",
       "        vertical-align: middle;\n",
       "    }\n",
       "\n",
       "    .dataframe tbody tr th {\n",
       "        vertical-align: top;\n",
       "    }\n",
       "\n",
       "    .dataframe thead th {\n",
       "        text-align: right;\n",
       "    }\n",
       "</style>\n",
       "<table border=\"1\" class=\"dataframe\">\n",
       "  <thead>\n",
       "    <tr style=\"text-align: right;\">\n",
       "      <th></th>\n",
       "      <th>GKGRECORDID</th>\n",
       "      <th>DATE</th>\n",
       "      <th>SourceCommonName</th>\n",
       "      <th>DocumentIdentifier</th>\n",
       "      <th>Location_Name</th>\n",
       "      <th>Location_Lat</th>\n",
       "      <th>Location_Lon</th>\n",
       "    </tr>\n",
       "  </thead>\n",
       "  <tbody>\n",
       "    <tr>\n",
       "      <th>1</th>\n",
       "      <td>20200314000000-1</td>\n",
       "      <td>20200314000000</td>\n",
       "      <td>mykxlg.com</td>\n",
       "      <td>https://www.mykxlg.com/news/national/on-eve-of...</td>\n",
       "      <td>Hollywood, California, United States</td>\n",
       "      <td>34.0983</td>\n",
       "      <td>-118.327</td>\n",
       "    </tr>\n",
       "    <tr>\n",
       "      <th>1</th>\n",
       "      <td>20200314000000-1</td>\n",
       "      <td>20200314000000</td>\n",
       "      <td>mykxlg.com</td>\n",
       "      <td>https://www.mykxlg.com/news/national/on-eve-of...</td>\n",
       "      <td>Anaheim, California, United States</td>\n",
       "      <td>33.8353</td>\n",
       "      <td>-117.915</td>\n",
       "    </tr>\n",
       "    <tr>\n",
       "      <th>3</th>\n",
       "      <td>20200314000000-3</td>\n",
       "      <td>20200314000000</td>\n",
       "      <td>newportri.com</td>\n",
       "      <td>https://www.newportri.com/zz/news/20200313/sch...</td>\n",
       "      <td>Philadelphia, Pennsylvania, United States</td>\n",
       "      <td>39.9523</td>\n",
       "      <td>-75.1638</td>\n",
       "    </tr>\n",
       "    <tr>\n",
       "      <th>3</th>\n",
       "      <td>20200314000000-3</td>\n",
       "      <td>20200314000000</td>\n",
       "      <td>newportri.com</td>\n",
       "      <td>https://www.newportri.com/zz/news/20200313/sch...</td>\n",
       "      <td>Cleveland, Ohio, United States</td>\n",
       "      <td>41.4995</td>\n",
       "      <td>-81.6954</td>\n",
       "    </tr>\n",
       "    <tr>\n",
       "      <th>3</th>\n",
       "      <td>20200314000000-3</td>\n",
       "      <td>20200314000000</td>\n",
       "      <td>newportri.com</td>\n",
       "      <td>https://www.newportri.com/zz/news/20200313/sch...</td>\n",
       "      <td>Valley High School, California, United States</td>\n",
       "      <td>33.7231</td>\n",
       "      <td>-117.901</td>\n",
       "    </tr>\n",
       "    <tr>\n",
       "      <th>...</th>\n",
       "      <td>...</td>\n",
       "      <td>...</td>\n",
       "      <td>...</td>\n",
       "      <td>...</td>\n",
       "      <td>...</td>\n",
       "      <td>...</td>\n",
       "      <td>...</td>\n",
       "    </tr>\n",
       "    <tr>\n",
       "      <th>79207</th>\n",
       "      <td>20200315191500-1533</td>\n",
       "      <td>20200315191500</td>\n",
       "      <td>rockymounttelegram.com</td>\n",
       "      <td>https://www.rockymounttelegram.com/news/nation...</td>\n",
       "      <td>Iditarod, Alaska, United States</td>\n",
       "      <td>62.5444</td>\n",
       "      <td>-158.095</td>\n",
       "    </tr>\n",
       "    <tr>\n",
       "      <th>79207</th>\n",
       "      <td>20200315191500-1533</td>\n",
       "      <td>20200315191500</td>\n",
       "      <td>rockymounttelegram.com</td>\n",
       "      <td>https://www.rockymounttelegram.com/news/nation...</td>\n",
       "      <td>Anchorage, Alaska, United States</td>\n",
       "      <td>61.2181</td>\n",
       "      <td>-149.9</td>\n",
       "    </tr>\n",
       "    <tr>\n",
       "      <th>79207</th>\n",
       "      <td>20200315191500-1533</td>\n",
       "      <td>20200315191500</td>\n",
       "      <td>rockymounttelegram.com</td>\n",
       "      <td>https://www.rockymounttelegram.com/news/nation...</td>\n",
       "      <td>Kaltag, Alaska, United States</td>\n",
       "      <td>64.3272</td>\n",
       "      <td>-158.722</td>\n",
       "    </tr>\n",
       "    <tr>\n",
       "      <th>79207</th>\n",
       "      <td>20200315191500-1533</td>\n",
       "      <td>20200315191500</td>\n",
       "      <td>rockymounttelegram.com</td>\n",
       "      <td>https://www.rockymounttelegram.com/news/nation...</td>\n",
       "      <td>Nulato, Alaska, United States</td>\n",
       "      <td>64.7194</td>\n",
       "      <td>-158.103</td>\n",
       "    </tr>\n",
       "    <tr>\n",
       "      <th>79208</th>\n",
       "      <td>20200315191500-1534</td>\n",
       "      <td>20200315191500</td>\n",
       "      <td>greenwichtime.com</td>\n",
       "      <td>https://www.greenwichtime.com/news/coronavirus...</td>\n",
       "      <td>Farmington, Connecticut, United States</td>\n",
       "      <td>41.7198</td>\n",
       "      <td>-72.832</td>\n",
       "    </tr>\n",
       "  </tbody>\n",
       "</table>\n",
       "<p>204440 rows × 7 columns</p>\n",
       "</div>"
      ],
      "text/plain": [
       "               GKGRECORDID            DATE        SourceCommonName  \\\n",
       "1         20200314000000-1  20200314000000              mykxlg.com   \n",
       "1         20200314000000-1  20200314000000              mykxlg.com   \n",
       "3         20200314000000-3  20200314000000           newportri.com   \n",
       "3         20200314000000-3  20200314000000           newportri.com   \n",
       "3         20200314000000-3  20200314000000           newportri.com   \n",
       "...                    ...             ...                     ...   \n",
       "79207  20200315191500-1533  20200315191500  rockymounttelegram.com   \n",
       "79207  20200315191500-1533  20200315191500  rockymounttelegram.com   \n",
       "79207  20200315191500-1533  20200315191500  rockymounttelegram.com   \n",
       "79207  20200315191500-1533  20200315191500  rockymounttelegram.com   \n",
       "79208  20200315191500-1534  20200315191500       greenwichtime.com   \n",
       "\n",
       "                                      DocumentIdentifier  \\\n",
       "1      https://www.mykxlg.com/news/national/on-eve-of...   \n",
       "1      https://www.mykxlg.com/news/national/on-eve-of...   \n",
       "3      https://www.newportri.com/zz/news/20200313/sch...   \n",
       "3      https://www.newportri.com/zz/news/20200313/sch...   \n",
       "3      https://www.newportri.com/zz/news/20200313/sch...   \n",
       "...                                                  ...   \n",
       "79207  https://www.rockymounttelegram.com/news/nation...   \n",
       "79207  https://www.rockymounttelegram.com/news/nation...   \n",
       "79207  https://www.rockymounttelegram.com/news/nation...   \n",
       "79207  https://www.rockymounttelegram.com/news/nation...   \n",
       "79208  https://www.greenwichtime.com/news/coronavirus...   \n",
       "\n",
       "                                       Location_Name Location_Lat Location_Lon  \n",
       "1               Hollywood, California, United States      34.0983     -118.327  \n",
       "1                 Anaheim, California, United States      33.8353     -117.915  \n",
       "3          Philadelphia, Pennsylvania, United States      39.9523     -75.1638  \n",
       "3                     Cleveland, Ohio, United States      41.4995     -81.6954  \n",
       "3      Valley High School, California, United States      33.7231     -117.901  \n",
       "...                                              ...          ...          ...  \n",
       "79207                Iditarod, Alaska, United States      62.5444     -158.095  \n",
       "79207               Anchorage, Alaska, United States      61.2181       -149.9  \n",
       "79207                  Kaltag, Alaska, United States      64.3272     -158.722  \n",
       "79207                  Nulato, Alaska, United States      64.7194     -158.103  \n",
       "79208         Farmington, Connecticut, United States      41.7198      -72.832  \n",
       "\n",
       "[204440 rows x 7 columns]"
      ]
     },
     "execution_count": 61,
     "metadata": {},
     "output_type": "execute_result"
    }
   ],
   "source": [
    "def to_point_locations(gkg_dataframe):\n",
    "    if gkg_dataframe.empty:\n",
    "        return pandas.DataFrame(columns=[\"GKGRECORDID\", \n",
    "                                         \"DATE\",\n",
    "                                         \"SourceCommonName\",\n",
    "                                         \"DocumentIdentifier\",\n",
    "                                         \"Location_Name\",\n",
    "                                         \"Location_Lat\",\n",
    "                                         \"Location_Lon\"])\n",
    "        \n",
    "    point_locations = gkg_dataframe[[\"GKGRECORDID\", \n",
    "                                                 \"DATE\",\n",
    "                                                 \"SourceCommonName\",\n",
    "                                                 \"DocumentIdentifier\",\n",
    "                                                 \"GDELT_Locations\"]].copy(deep=True)\n",
    "    point_locations[\"Location_Name\"] = gkg_dataframe.apply(lambda record: record[\"GDELT_Locations\"].location_name, axis=1)\n",
    "    point_locations[\"Location_Lat\"] = gkg_dataframe.apply(lambda record: record[\"GDELT_Locations\"].location_lat, axis=1)\n",
    "    point_locations[\"Location_Lon\"] = gkg_dataframe.apply(lambda record: record[\"GDELT_Locations\"].location_lon, axis=1)\n",
    "    return point_locations.drop(\"GDELT_Locations\", axis=1)\n",
    "\n",
    "corona_point_locations = to_point_locations(corona_filtered_locations)\n",
    "del corona_filtered_locations\n",
    "\n",
    "corona_point_locations"
   ]
  },
  {
   "cell_type": "markdown",
   "metadata": {},
   "source": [
    "# Save point locations to temp"
   ]
  },
  {
   "cell_type": "code",
   "execution_count": 62,
   "metadata": {},
   "outputs": [],
   "source": [
    "corona_point_locations.to_csv(\"{}/corona_locations_{}.gkg.csv\".format(tempfile.gettempdir(), report_date.strftime(\"%Y%m%d\")), index=False)\n",
    "\n",
    "del corona_point_locations"
   ]
  },
  {
   "cell_type": "code",
   "execution_count": null,
   "metadata": {},
   "outputs": [],
   "source": []
  }
 ],
 "metadata": {
  "kernelspec": {
   "display_name": "Python 3",
   "language": "python",
   "name": "python3"
  },
  "language_info": {
   "codemirror_mode": {
    "name": "ipython",
    "version": 3
   },
   "file_extension": ".py",
   "mimetype": "text/x-python",
   "name": "python",
   "nbconvert_exporter": "python",
   "pygments_lexer": "ipython3",
   "version": "3.7.3"
  }
 },
 "nbformat": 4,
 "nbformat_minor": 2
}
